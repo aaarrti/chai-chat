{
 "cells": [
  {
   "cell_type": "code",
   "execution_count": 1,
   "metadata": {
    "collapsed": true
   },
   "outputs": [
    {
     "data": {
      "text/plain": "[CpuDevice(id=0)]"
     },
     "execution_count": 1,
     "metadata": {},
     "output_type": "execute_result"
    }
   ],
   "source": [
    "from safetensors.flax import load_file\n",
    "import sys\n",
    "from flax.traverse_util import unflatten_dict\n",
    "from tokenizers import Tokenizer\n",
    "import jax\n",
    "\n",
    "sys.path.append(\"../\")\n",
    "from src.pkg import build_model, sample_sentence\n",
    "from src.config import get_config\n",
    "\n",
    "jax.devices()"
   ]
  },
  {
   "cell_type": "code",
   "execution_count": 2,
   "outputs": [],
   "source": [
    "tokenizer = Tokenizer.from_file(\"../data/tokenizer.json\")\n",
    "\n",
    "config = get_config()\n",
    "model = build_model(config.fnet)\n",
    "\n",
    "\n",
    "params = load_file(\"../data/model.safetensors\")\n",
    "params = unflatten_dict(params, \"/\")"
   ],
   "metadata": {
    "collapsed": false
   }
  },
  {
   "cell_type": "code",
   "execution_count": 3,
   "outputs": [
    {
     "data": {
      "text/plain": "\"' stw chai in haus\""
     },
     "execution_count": 3,
     "metadata": {},
     "output_type": "execute_result"
    }
   ],
   "source": [
    "sample_sentence(\n",
    "    prompt=\"chai?\",\n",
    "    tokenizer=tokenizer,\n",
    "    max_len=5,\n",
    "    predict_func=jax.jit(lambda x: model.apply({\"params\": params}, x)),\n",
    ")"
   ],
   "metadata": {
    "collapsed": false
   }
  },
  {
   "cell_type": "code",
   "execution_count": null,
   "outputs": [],
   "source": [],
   "metadata": {
    "collapsed": false
   }
  }
 ],
 "metadata": {
  "kernelspec": {
   "display_name": "Python 3",
   "language": "python",
   "name": "python3"
  },
  "language_info": {
   "codemirror_mode": {
    "name": "ipython",
    "version": 2
   },
   "file_extension": ".py",
   "mimetype": "text/x-python",
   "name": "python",
   "nbconvert_exporter": "python",
   "pygments_lexer": "ipython2",
   "version": "2.7.6"
  }
 },
 "nbformat": 4,
 "nbformat_minor": 0
}
